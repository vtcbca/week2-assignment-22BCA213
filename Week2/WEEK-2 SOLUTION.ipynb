{
 "cells": [
  {
   "cell_type": "code",
   "execution_count": 1,
   "id": "385034ac",
   "metadata": {},
   "outputs": [],
   "source": [
    "import sqlite3 as sq"
   ]
  },
  {
   "cell_type": "code",
   "execution_count": 2,
   "id": "cace522b",
   "metadata": {},
   "outputs": [],
   "source": [
    "con=sq.connect('student.db')\n"
   ]
  },
  {
   "cell_type": "code",
   "execution_count": 3,
   "id": "ee26e806",
   "metadata": {},
   "outputs": [],
   "source": [
    "cur=con.cursor()"
   ]
  },
  {
   "cell_type": "code",
   "execution_count": 4,
   "id": "b423a103",
   "metadata": {},
   "outputs": [],
   "source": [
    "table1=\"Create table if not exists stud(sid int primary key,sname text NOT NULL)\""
   ]
  },
  {
   "cell_type": "code",
   "execution_count": 5,
   "id": "fce318fb",
   "metadata": {},
   "outputs": [
    {
     "data": {
      "text/plain": [
       "<sqlite3.Cursor at 0x293ebdc2140>"
      ]
     },
     "execution_count": 5,
     "metadata": {},
     "output_type": "execute_result"
    }
   ],
   "source": [
    "cur.execute(table1)"
   ]
  },
  {
   "cell_type": "code",
   "execution_count": 6,
   "id": "bc2e2c26",
   "metadata": {},
   "outputs": [],
   "source": [
    "table2=\"Create table if not exists stud_details(sid references stud(sid),city text NOT NULL,mobno int)\""
   ]
  },
  {
   "cell_type": "code",
   "execution_count": 7,
   "id": "0ee4b743",
   "metadata": {},
   "outputs": [
    {
     "data": {
      "text/plain": [
       "<sqlite3.Cursor at 0x293ebdc2140>"
      ]
     },
     "execution_count": 7,
     "metadata": {},
     "output_type": "execute_result"
    }
   ],
   "source": [
    "cur.execute(table2)"
   ]
  },
  {
   "cell_type": "code",
   "execution_count": 8,
   "id": "9d0bd27f",
   "metadata": {},
   "outputs": [],
   "source": [
    "con.commit()"
   ]
  },
  {
   "cell_type": "code",
   "execution_count": 9,
   "id": "b250ce11",
   "metadata": {},
   "outputs": [],
   "source": [
    "insert1=\"insert into stud values(101,'OM'),(102,'SAI'),(103,'RAM'),(104,'RADHA'),(105,'KRISHNA'),(106,'SHIV'),(107,'VIVEK'),(108,'KAILASH'),(109,'KIRTAN'),(110,'DEV')\""
   ]
  },
  {
   "cell_type": "code",
   "execution_count": 10,
   "id": "f9cf8026",
   "metadata": {},
   "outputs": [
    {
     "data": {
      "text/plain": [
       "<sqlite3.Cursor at 0x293ebdc2140>"
      ]
     },
     "execution_count": 10,
     "metadata": {},
     "output_type": "execute_result"
    }
   ],
   "source": [
    "cur.execute(insert1)"
   ]
  },
  {
   "cell_type": "code",
   "execution_count": 11,
   "id": "8c60b27c",
   "metadata": {},
   "outputs": [],
   "source": [
    "insert2=\"insert into stud_details values(101,'Surat',9876554651),(102,'Bardoli',9876764321),(103,'Baben',9347754121),(104,'Mumbai',8764450921),(105,'Vadodara',9123552341),(106,'Surat',9876556321),(107,'Bardoli',76543090921),(108,'Mumbai',7654321098),(109,'surat',9012308080),(110,'Bardoli',6543202376)\""
   ]
  },
  {
   "cell_type": "code",
   "execution_count": 12,
   "id": "e9dbd5e3",
   "metadata": {},
   "outputs": [
    {
     "data": {
      "text/plain": [
       "<sqlite3.Cursor at 0x293ebdc2140>"
      ]
     },
     "execution_count": 12,
     "metadata": {},
     "output_type": "execute_result"
    }
   ],
   "source": [
    "cur.execute(insert2)"
   ]
  },
  {
   "cell_type": "code",
   "execution_count": 13,
   "id": "215d4717",
   "metadata": {},
   "outputs": [],
   "source": [
    "con.commit()\n"
   ]
  },
  {
   "cell_type": "code",
   "execution_count": 14,
   "id": "ba4753e9",
   "metadata": {},
   "outputs": [],
   "source": [
    "sel1=\"select * from stud_details where city='Surat' \""
   ]
  },
  {
   "cell_type": "code",
   "execution_count": 15,
   "id": "3db74b2d",
   "metadata": {},
   "outputs": [
    {
     "data": {
      "text/plain": [
       "<sqlite3.Cursor at 0x293ebdc2140>"
      ]
     },
     "execution_count": 15,
     "metadata": {},
     "output_type": "execute_result"
    }
   ],
   "source": [
    "cur.execute(sel1)"
   ]
  },
  {
   "cell_type": "code",
   "execution_count": 16,
   "id": "dd46e39a",
   "metadata": {},
   "outputs": [
    {
     "data": {
      "text/plain": [
       "[(101, 'Surat', 9876554651), (106, 'Surat', 9876556321)]"
      ]
     },
     "execution_count": 16,
     "metadata": {},
     "output_type": "execute_result"
    }
   ],
   "source": [
    "cur.fetchall()"
   ]
  },
  {
   "cell_type": "code",
   "execution_count": 17,
   "id": "15ea3102",
   "metadata": {},
   "outputs": [],
   "source": [
    "con.commit()"
   ]
  },
  {
   "cell_type": "code",
   "execution_count": 18,
   "id": "c16716bb",
   "metadata": {},
   "outputs": [],
   "source": [
    "sel2=\"select * from stud_details where city LIKE 'B%' \""
   ]
  },
  {
   "cell_type": "code",
   "execution_count": 19,
   "id": "32b52ac9",
   "metadata": {},
   "outputs": [
    {
     "data": {
      "text/plain": [
       "<sqlite3.Cursor at 0x293ebdc2140>"
      ]
     },
     "execution_count": 19,
     "metadata": {},
     "output_type": "execute_result"
    }
   ],
   "source": [
    "cur.execute(sel2)"
   ]
  },
  {
   "cell_type": "code",
   "execution_count": 20,
   "id": "630411a7",
   "metadata": {},
   "outputs": [
    {
     "data": {
      "text/plain": [
       "[(102, 'Bardoli', 9876764321),\n",
       " (103, 'Baben', 9347754121),\n",
       " (107, 'Bardoli', 76543090921),\n",
       " (110, 'Bardoli', 6543202376)]"
      ]
     },
     "execution_count": 20,
     "metadata": {},
     "output_type": "execute_result"
    }
   ],
   "source": [
    "cur.fetchall()"
   ]
  },
  {
   "cell_type": "code",
   "execution_count": 21,
   "id": "75cc4bdf",
   "metadata": {},
   "outputs": [],
   "source": [
    "con.commit()"
   ]
  },
  {
   "cell_type": "code",
   "execution_count": 22,
   "id": "0bfe01ea",
   "metadata": {},
   "outputs": [],
   "source": [
    "upd=\"update stud_details set mobno=9090808070 where city='Surat' and sid=101 \""
   ]
  },
  {
   "cell_type": "code",
   "execution_count": 23,
   "id": "3461a2c3",
   "metadata": {},
   "outputs": [
    {
     "data": {
      "text/plain": [
       "<sqlite3.Cursor at 0x293ebdc2140>"
      ]
     },
     "execution_count": 23,
     "metadata": {},
     "output_type": "execute_result"
    }
   ],
   "source": [
    "cur.execute(upd)"
   ]
  },
  {
   "cell_type": "code",
   "execution_count": 24,
   "id": "36ca7a70",
   "metadata": {},
   "outputs": [],
   "source": [
    "con.commit()"
   ]
  },
  {
   "cell_type": "code",
   "execution_count": 25,
   "id": "aae73519",
   "metadata": {},
   "outputs": [],
   "source": [
    "con.close()"
   ]
  },
  {
   "cell_type": "code",
   "execution_count": null,
   "id": "b8d14a1a",
   "metadata": {},
   "outputs": [],
   "source": []
  }
 ],
 "metadata": {
  "kernelspec": {
   "display_name": "Python 3 (ipykernel)",
   "language": "python",
   "name": "python3"
  },
  "language_info": {
   "codemirror_mode": {
    "name": "ipython",
    "version": 3
   },
   "file_extension": ".py",
   "mimetype": "text/x-python",
   "name": "python",
   "nbconvert_exporter": "python",
   "pygments_lexer": "ipython3",
   "version": "3.11.4"
  }
 },
 "nbformat": 4,
 "nbformat_minor": 5
}
