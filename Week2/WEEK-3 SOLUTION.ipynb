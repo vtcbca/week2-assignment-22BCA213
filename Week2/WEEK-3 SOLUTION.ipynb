{
 "cells": [
  {
   "cell_type": "code",
   "execution_count": 1,
   "id": "a05e8126",
   "metadata": {},
   "outputs": [],
   "source": [
    "import sqlite3 as sq"
   ]
  },
  {
   "cell_type": "markdown",
   "id": "16135d54",
   "metadata": {},
   "source": [
    "-> making connection with database using connect()"
   ]
  },
  {
   "cell_type": "code",
   "execution_count": 2,
   "id": "219de225",
   "metadata": {},
   "outputs": [],
   "source": [
    "con = sq.connect('EMS.db')"
   ]
  },
  {
   "cell_type": "markdown",
   "id": "572e1345",
   "metadata": {},
   "source": [
    "->making cursor on con object"
   ]
  },
  {
   "cell_type": "code",
   "execution_count": 3,
   "id": "efd92280",
   "metadata": {},
   "outputs": [],
   "source": [
    "cur = con.cursor()"
   ]
  },
  {
   "cell_type": "markdown",
   "id": "fcfe21b5",
   "metadata": {},
   "source": [
    "-> query-1 create table query and execute it using execute()"
   ]
  },
  {
   "cell_type": "code",
   "execution_count": 4,
   "id": "4eab05a5",
   "metadata": {},
   "outputs": [],
   "source": [
    "query='''create table if not exists employee \n",
    "        (eid int primary key,\n",
    "         ename text,\n",
    "         dept text,\n",
    "         basic int,\n",
    "         branch text)'''\n",
    "cur.execute(query)\n",
    "con.commit()"
   ]
  },
  {
   "cell_type": "markdown",
   "id": "99a5d0c2",
   "metadata": {},
   "source": [
    "->Query-2 function to insert 5 record in table"
   ]
  },
  {
   "cell_type": "code",
   "execution_count": 5,
   "id": "b964ce3f",
   "metadata": {},
   "outputs": [],
   "source": [
    "def insertemp(n):\n",
    "    l=[]\n",
    "    query=f\"insert into Employee values(?,?,?,?,?)\"\n",
    "       \n",
    "    for i in range(n):\n",
    "        eid=int(input(\"Enter Employee id:\"))\n",
    "        ename=input(\"Enter Employee name \")\n",
    "        dept=input(\"Enter Employee department:\")\n",
    "        basic=int(input(\"Enter Employee basic salary:\"))\n",
    "        branch=input(\"Enter Employee branch:\")\n",
    "        t=(eid,ename,dept,basic,branch)\n",
    "        l.append(t)\n",
    "    cur.executemany(query,l)\n",
    "    con.commit()"
   ]
  },
  {
   "cell_type": "markdown",
   "id": "063bae21",
   "metadata": {},
   "source": [
    "-> Query-3 update record of employee who are from surat increment 10% in basic\n",
    "\n"
   ]
  },
  {
   "cell_type": "code",
   "execution_count": 6,
   "id": "17fdad99",
   "metadata": {},
   "outputs": [],
   "source": [
    "def updatesal():\n",
    "    query=f\"update Employee set basic=basic+basic*0.1 where branch='surat'\"\n",
    "    cur.execute(query)\n",
    "    con.commit()"
   ]
  },
  {
   "cell_type": "markdown",
   "id": "b8574f10",
   "metadata": {},
   "source": [
    "->Query-4 print all record"
   ]
  },
  {
   "cell_type": "code",
   "execution_count": 7,
   "id": "71995a34",
   "metadata": {},
   "outputs": [],
   "source": [
    "def displayrecord():\n",
    "    query=f\"select * from Employee\"\n",
    "    cur.execute(query)\n",
    "    data=cur.fetchall()\n",
    "    for i in data:\n",
    "        print(\"Employee id:{}\\nEmployee name:{}\\nEmployee department:{}\\nEmployee Basic:{}\\nEmployee branch:{}\".format(i[0],i[1],i[2],i[3],i[4])) \n"
   ]
  },
  {
   "cell_type": "markdown",
   "id": "237d19fa",
   "metadata": {},
   "source": [
    "->Query-5 print record whose department is 'hr' or 'it'"
   ]
  },
  {
   "cell_type": "code",
   "execution_count": 8,
   "id": "dc3f9b54",
   "metadata": {},
   "outputs": [],
   "source": [
    "def deptrecord():\n",
    "    query=f\"select * from Employee where dept in ('hr','it','HR','IT')\"\n",
    "    cur.execute(query)\n",
    "    data=cur.fetchall()\n",
    "    for i in data:\n",
    "        print(\"Employee id:{}\\nEmployee name:{}\\nEmployee department:{}\\nEmployee Basic:{}\\nEmployee branch:{}\".format(i[0],i[1],i[2],i[3],i[4])) \n"
   ]
  },
  {
   "cell_type": "markdown",
   "id": "aef4893b",
   "metadata": {},
   "source": [
    "-> Query-6 record in sorting order of department"
   ]
  },
  {
   "cell_type": "code",
   "execution_count": 10,
   "id": "03a76025",
   "metadata": {},
   "outputs": [],
   "source": [
    "def recordbasicgreaterthan():\n",
    "    query=f\"select * from Employee where basic>6000\"\n",
    "    cur.execute(query)\n",
    "    data=cur.fetchall()\n",
    "    for i in data:\n",
    "        print(\"Employee id:{}\\nEmployee name:{}\\nEmployee department:{}\\nEmployee Basic:{}\\nEmployee branch:{}\".format(i[0],i[1],i[2],i[3],i[4])) \n",
    "\n"
   ]
  },
  {
   "cell_type": "markdown",
   "id": "1cda4471",
   "metadata": {},
   "source": [
    "-> Query-8 records where employee's name second character is 'r'"
   ]
  },
  {
   "cell_type": "code",
   "execution_count": 11,
   "id": "7c7f4739",
   "metadata": {},
   "outputs": [],
   "source": [
    "def sortrecorddept():\n",
    "    query=f\"select * from Employee where ename like '_r%'\"\n",
    "    cur.execute(query)\n",
    "    data=cur.fetchall()\n",
    "    for i in data:\n",
    "        print(\"Employee id:{}\\nEmployee name:{}\\nEmployee department:{}\\nEmployee Basic:{}\\nEmployee branch:{}\".format(i[0],i[1],i[2],i[3],i[4])) \n"
   ]
  },
  {
   "cell_type": "markdown",
   "id": "d7e4fd16",
   "metadata": {},
   "source": [
    "-> Query-9 grouping record of employee who are from \"account\" and \"inventory\""
   ]
  },
  {
   "cell_type": "code",
   "execution_count": 12,
   "id": "155099da",
   "metadata": {},
   "outputs": [],
   "source": [
    "def groupingrecord():\n",
    "    query=f\"select dept,count(*) as count  from Employee where dept in ('account','inventory')\"\n",
    "    cur.execute(query)\n",
    "    data=cur.fetchall()\n",
    "    for i in data:\n",
    "        print(\"\\nEmployee department:{}\\ncount :{}\".format(i[0],i[1]))"
   ]
  },
  {
   "cell_type": "markdown",
   "id": "19590a31",
   "metadata": {},
   "source": [
    "-> Query-10 print record based on branch name in descending order."
   ]
  },
  {
   "cell_type": "code",
   "execution_count": 13,
   "id": "9119c4c7",
   "metadata": {},
   "outputs": [],
   "source": [
    "def orderbydesc():\n",
    "    query=f\"select * from Employee order by branch desc\"\n",
    "    cur.execute(query)\n",
    "    data=cur.fetchall()\n",
    "    for i in data:\n",
    "        print(\"Employee id:{}\\nEmployee name:{}\\nEmployee department:{}\\nEmployee Basic:{}\\nEmployee branch:{}\".format(i[0],i[1],i[2],i[3],i[4])) \n"
   ]
  },
  {
   "cell_type": "markdown",
   "id": "da573f6c",
   "metadata": {},
   "source": [
    "-> call all function"
   ]
  },
  {
   "cell_type": "code",
   "execution_count": 14,
   "id": "28dffabf",
   "metadata": {},
   "outputs": [
    {
     "name": "stdout",
     "output_type": "stream",
     "text": [
      "Enter Employee id:1\n",
      "Enter Employee name OM\n",
      "Enter Employee department:HR\n",
      "Enter Employee basic salary:15000\n",
      "Enter Employee branch:BARDOLI\n",
      "Enter Employee id:2\n",
      "Enter Employee name SAI\n",
      "Enter Employee department:ACCOUNT\n",
      "Enter Employee basic salary:25000\n",
      "Enter Employee branch:AHEMDABAD\n",
      "Enter Employee id:3\n",
      "Enter Employee name RAM\n",
      "Enter Employee department:INVENTORY\n",
      "Enter Employee basic salary:5000\n",
      "Enter Employee branch:BARODA\n",
      "Enter Employee id:4\n",
      "Enter Employee name KISHAN\n",
      "Enter Employee department:IT\n",
      "Enter Employee basic salary:30000\n",
      "Enter Employee branch:MANDAVI\n",
      "Enter Employee id:5\n",
      "Enter Employee name RADHA\n",
      "Enter Employee department:HR\n",
      "Enter Employee basic salary:20000\n",
      "Enter Employee branch:AHAWA\n"
     ]
    }
   ],
   "source": [
    "insertemp(5)"
   ]
  },
  {
   "cell_type": "code",
   "execution_count": 15,
   "id": "b2c44112",
   "metadata": {},
   "outputs": [],
   "source": [
    "updatesal()"
   ]
  },
  {
   "cell_type": "code",
   "execution_count": 16,
   "id": "fd934f15",
   "metadata": {},
   "outputs": [
    {
     "name": "stdout",
     "output_type": "stream",
     "text": [
      "Employee id:1\n",
      "Employee name:OM\n",
      "Employee department:HR\n",
      "Employee Basic:15000\n",
      "Employee branch:BARDOLI\n",
      "Employee id:2\n",
      "Employee name:SAI\n",
      "Employee department:ACCOUNT\n",
      "Employee Basic:25000\n",
      "Employee branch:AHEMDABAD\n",
      "Employee id:3\n",
      "Employee name:RAM\n",
      "Employee department:INVENTORY\n",
      "Employee Basic:5000\n",
      "Employee branch:BARODA\n",
      "Employee id:4\n",
      "Employee name:KISHAN\n",
      "Employee department:IT\n",
      "Employee Basic:30000\n",
      "Employee branch:MANDAVI\n",
      "Employee id:5\n",
      "Employee name:RADHA\n",
      "Employee department:HR\n",
      "Employee Basic:20000\n",
      "Employee branch:AHAWA\n"
     ]
    }
   ],
   "source": [
    "displayrecord()"
   ]
  },
  {
   "cell_type": "code",
   "execution_count": 17,
   "id": "82b7cdde",
   "metadata": {},
   "outputs": [],
   "source": [
    "sortrecorddept()"
   ]
  },
  {
   "cell_type": "code",
   "execution_count": 18,
   "id": "1dbd9806",
   "metadata": {},
   "outputs": [
    {
     "name": "stdout",
     "output_type": "stream",
     "text": [
      "Employee id:1\n",
      "Employee name:OM\n",
      "Employee department:HR\n",
      "Employee Basic:15000\n",
      "Employee branch:BARDOLI\n",
      "Employee id:2\n",
      "Employee name:SAI\n",
      "Employee department:ACCOUNT\n",
      "Employee Basic:25000\n",
      "Employee branch:AHEMDABAD\n",
      "Employee id:4\n",
      "Employee name:KISHAN\n",
      "Employee department:IT\n",
      "Employee Basic:30000\n",
      "Employee branch:MANDAVI\n",
      "Employee id:5\n",
      "Employee name:RADHA\n",
      "Employee department:HR\n",
      "Employee Basic:20000\n",
      "Employee branch:AHAWA\n"
     ]
    }
   ],
   "source": [
    "recordbasicgreaterthan()"
   ]
  },
  {
   "cell_type": "code",
   "execution_count": 19,
   "id": "5cecbc34",
   "metadata": {},
   "outputs": [],
   "source": [
    "sortrecorddept()"
   ]
  },
  {
   "cell_type": "code",
   "execution_count": 20,
   "id": "d36531f9",
   "metadata": {},
   "outputs": [
    {
     "name": "stdout",
     "output_type": "stream",
     "text": [
      "\n",
      "Employee department:None\n",
      "count :0\n"
     ]
    }
   ],
   "source": [
    "groupingrecord()"
   ]
  },
  {
   "cell_type": "code",
   "execution_count": 21,
   "id": "a95e8b7a",
   "metadata": {},
   "outputs": [
    {
     "name": "stdout",
     "output_type": "stream",
     "text": [
      "Employee id:4\n",
      "Employee name:KISHAN\n",
      "Employee department:IT\n",
      "Employee Basic:30000\n",
      "Employee branch:MANDAVI\n",
      "Employee id:3\n",
      "Employee name:RAM\n",
      "Employee department:INVENTORY\n",
      "Employee Basic:5000\n",
      "Employee branch:BARODA\n",
      "Employee id:1\n",
      "Employee name:OM\n",
      "Employee department:HR\n",
      "Employee Basic:15000\n",
      "Employee branch:BARDOLI\n",
      "Employee id:2\n",
      "Employee name:SAI\n",
      "Employee department:ACCOUNT\n",
      "Employee Basic:25000\n",
      "Employee branch:AHEMDABAD\n",
      "Employee id:5\n",
      "Employee name:RADHA\n",
      "Employee department:HR\n",
      "Employee Basic:20000\n",
      "Employee branch:AHAWA\n"
     ]
    }
   ],
   "source": [
    "orderbydesc()"
   ]
  },
  {
   "cell_type": "code",
   "execution_count": 22,
   "id": "4481bf79",
   "metadata": {},
   "outputs": [],
   "source": [
    "con.commit()"
   ]
  },
  {
   "cell_type": "markdown",
   "id": "4782c54e",
   "metadata": {},
   "source": [
    "-> close the connection with database"
   ]
  },
  {
   "cell_type": "code",
   "execution_count": 23,
   "id": "545d77ac",
   "metadata": {},
   "outputs": [],
   "source": [
    "con.close()"
   ]
  },
  {
   "cell_type": "code",
   "execution_count": null,
   "id": "2d0cd4f0",
   "metadata": {},
   "outputs": [],
   "source": []
  }
 ],
 "metadata": {
  "kernelspec": {
   "display_name": "Python 3 (ipykernel)",
   "language": "python",
   "name": "python3"
  },
  "language_info": {
   "codemirror_mode": {
    "name": "ipython",
    "version": 3
   },
   "file_extension": ".py",
   "mimetype": "text/x-python",
   "name": "python",
   "nbconvert_exporter": "python",
   "pygments_lexer": "ipython3",
   "version": "3.11.4"
  }
 },
 "nbformat": 4,
 "nbformat_minor": 5
}
